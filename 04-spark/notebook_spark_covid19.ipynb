{
 "cells": [
  {
   "cell_type": "code",
   "execution_count": 1,
   "metadata": {},
   "outputs": [
    {
     "data": {
      "application/vnd.jupyter.widget-view+json": {
       "model_id": "79d3260543bd4e4eac6f192561a2ccd6",
       "version_major": 2,
       "version_minor": 0
      },
      "text/plain": [
       "VBox()"
      ]
     },
     "metadata": {},
     "output_type": "display_data"
    },
    {
     "name": "stdout",
     "output_type": "stream",
     "text": [
      "Starting Spark application\n"
     ]
    },
    {
     "data": {
      "text/html": [
       "<table>\n",
       "<tr><th>ID</th><th>YARN Application ID</th><th>Kind</th><th>State</th><th>Spark UI</th><th>Driver log</th><th>Current session?</th></tr><tr><td>10</td><td>application_1588582786436_0011</td><td>pyspark</td><td>idle</td><td><a target=\"_blank\" href=\"http://ip-172-31-36-69.ec2.internal:20888/proxy/application_1588582786436_0011/\">Link</a></td><td><a target=\"_blank\" href=\"http://ip-172-31-41-66.ec2.internal:8042/node/containerlogs/container_1588582786436_0011_01_000001/livy\">Link</a></td><td>✔</td></tr></table>"
      ],
      "text/plain": [
       "<IPython.core.display.HTML object>"
      ]
     },
     "metadata": {},
     "output_type": "display_data"
    },
    {
     "data": {
      "application/vnd.jupyter.widget-view+json": {
       "model_id": "",
       "version_major": 2,
       "version_minor": 0
      },
      "text/plain": [
       "FloatProgress(value=0.0, bar_style='info', description='Progress:', layout=Layout(height='25px', width='50%'),…"
      ]
     },
     "metadata": {},
     "output_type": "display_data"
    },
    {
     "name": "stdout",
     "output_type": "stream",
     "text": [
      "SparkSession available as 'spark'.\n"
     ]
    },
    {
     "data": {
      "application/vnd.jupyter.widget-view+json": {
       "model_id": "",
       "version_major": 2,
       "version_minor": 0
      },
      "text/plain": [
       "FloatProgress(value=0.0, bar_style='info', description='Progress:', layout=Layout(height='25px', width='50%'),…"
      ]
     },
     "metadata": {},
     "output_type": "display_data"
    }
   ],
   "source": [
    "# Import SparkSession y la función datediff\n",
    "from pyspark.sql import SparkSession\n",
    "from pyspark.sql.functions import datediff"
   ]
  },
  {
   "cell_type": "code",
   "execution_count": 2,
   "metadata": {},
   "outputs": [
    {
     "data": {
      "application/vnd.jupyter.widget-view+json": {
       "model_id": "9b182f3dcd044a64920b39d3d80d3f2b",
       "version_major": 2,
       "version_minor": 0
      },
      "text/plain": [
       "VBox()"
      ]
     },
     "metadata": {},
     "output_type": "display_data"
    },
    {
     "data": {
      "application/vnd.jupyter.widget-view+json": {
       "model_id": "",
       "version_major": 2,
       "version_minor": 0
      },
      "text/plain": [
       "FloatProgress(value=0.0, bar_style='info', description='Progress:', layout=Layout(height='25px', width='50%'),…"
      ]
     },
     "metadata": {},
     "output_type": "display_data"
    }
   ],
   "source": [
    "# Create SparkSession Object\n",
    "spark=SparkSession.builder.appName('data_processing').getOrCreate()"
   ]
  },
  {
   "cell_type": "code",
   "execution_count": 3,
   "metadata": {},
   "outputs": [
    {
     "data": {
      "application/vnd.jupyter.widget-view+json": {
       "model_id": "0caa739d2a7041209335ae0d17ba2ae4",
       "version_major": 2,
       "version_minor": 0
      },
      "text/plain": [
       "VBox()"
      ]
     },
     "metadata": {},
     "output_type": "display_data"
    },
    {
     "data": {
      "application/vnd.jupyter.widget-view+json": {
       "model_id": "",
       "version_major": 2,
       "version_minor": 0
      },
      "text/plain": [
       "FloatProgress(value=0.0, bar_style='info', description='Progress:', layout=Layout(height='25px', width='50%'),…"
      ]
     },
     "metadata": {},
     "output_type": "display_data"
    }
   ],
   "source": [
    "# Load CSV dataset\n",
    "df = spark.read.csv('s3://jscardonag/datasets/spark/Casos_positivos_de_COVID-19_en_Colombia.csv', inferSchema = True, header = True)"
   ]
  },
  {
   "cell_type": "code",
   "execution_count": 4,
   "metadata": {},
   "outputs": [
    {
     "data": {
      "application/vnd.jupyter.widget-view+json": {
       "model_id": "10ee4107ef424b519fd4c9947b9e4b3a",
       "version_major": 2,
       "version_minor": 0
      },
      "text/plain": [
       "VBox()"
      ]
     },
     "metadata": {},
     "output_type": "display_data"
    },
    {
     "data": {
      "application/vnd.jupyter.widget-view+json": {
       "model_id": "",
       "version_major": 2,
       "version_minor": 0
      },
      "text/plain": [
       "FloatProgress(value=0.0, bar_style='info', description='Progress:', layout=Layout(height='25px', width='50%'),…"
      ]
     },
     "metadata": {},
     "output_type": "display_data"
    }
   ],
   "source": [
    "# Borrar las columnas 'Codigo DIVIPOLA', 'fecha reporte web', 'Fecha de muerte'.\n",
    "df = df.drop('Codigo DIVIPOLA', 'fecha reporte web', 'Fecha de muerte')"
   ]
  },
  {
   "cell_type": "code",
   "execution_count": 5,
   "metadata": {},
   "outputs": [
    {
     "data": {
      "application/vnd.jupyter.widget-view+json": {
       "model_id": "236847c0740c43e78ad96500fd2e23dc",
       "version_major": 2,
       "version_minor": 0
      },
      "text/plain": [
       "VBox()"
      ]
     },
     "metadata": {},
     "output_type": "display_data"
    },
    {
     "data": {
      "application/vnd.jupyter.widget-view+json": {
       "model_id": "",
       "version_major": 2,
       "version_minor": 0
      },
      "text/plain": [
       "FloatProgress(value=0.0, bar_style='info', description='Progress:', layout=Layout(height='25px', width='50%'),…"
      ]
     },
     "metadata": {},
     "output_type": "display_data"
    },
    {
     "name": "stdout",
     "output_type": "stream",
     "text": [
      "+----------+---------------------+-------------------+------------------------+----------+----+----+-----------+------+--------------------+--------------------+-------------------+--------------------+-----------------------------------+\n",
      "|ID de caso|Fecha de notificación|Ciudad de ubicación|Departamento o Distrito |  atención|Edad|Sexo|       Tipo|Estado| País de procedencia|                 FIS|  Fecha diagnostico|    Fecha recuperado|dias_transcurridos_para_recuperarse|\n",
      "+----------+---------------------+-------------------+------------------------+----------+----+----+-----------+------+--------------------+--------------------+-------------------+--------------------+-----------------------------------+\n",
      "|       241|  2020-03-19 00:00:00|        Bogotá D.C.|             Bogotá D.C.|Recuperado|  58|   F|Relacionado|  Leve|            Colombia|2020-03-06T00:00:...|2020-03-23 00:00:00|2020-03-21T00:00:...|                                  2|\n",
      "|       595|  2020-03-16 00:00:00|           Medellín|               Antioquia|Recuperado|  27|   F|  Importado|  Leve|Estados Unidos de...|2020-03-10T00:00:...|2020-03-28 00:00:00|2020-03-25T00:00:...|                                  3|\n",
      "|       711|  2020-03-20 00:00:00|              Neiva|                   Huila|Recuperado|  27|   F|  Importado|  Leve|              España|2020-03-12T00:00:...|2020-03-30 00:00:00|2020-03-26T00:00:...|                                  4|\n",
      "|       735|  2020-03-18 00:00:00|             Cajicá|            Cundinamarca|Recuperado|  48|   M| En estudio|  Leve|            Colombia|2020-03-08T00:00:...|2020-03-30 00:00:00|2020-03-23T00:00:...|                                  7|\n",
      "|      1044|  2020-03-26 00:00:00|        Bogotá D.C.|             Bogotá D.C.|Recuperado|  31|   F|Relacionado|  Leve|            Colombia|2020-03-16T00:00:...|2020-04-01 00:00:00|2020-03-31T00:00:...|                                  1|\n",
      "+----------+---------------------+-------------------+------------------------+----------+----+----+-----------+------+--------------------+--------------------+-------------------+--------------------+-----------------------------------+\n",
      "only showing top 5 rows"
     ]
    }
   ],
   "source": [
    "# Crear la columna donde se almacena el calculo de días que transcurren para que un paciente diagnosticado\n",
    "# se cure\n",
    "df = df.withColumn('dias_transcurridos_para_recuperarse', datediff(df['Fecha diagnostico'], df['Fecha recuperado']))\n",
    "df.filter(df['dias_transcurridos_para_recuperarse'] > 0).show(5)"
   ]
  },
  {
   "cell_type": "code",
   "execution_count": 6,
   "metadata": {},
   "outputs": [
    {
     "data": {
      "application/vnd.jupyter.widget-view+json": {
       "model_id": "51180e623c4a4f92bfe74b8654ad07bc",
       "version_major": 2,
       "version_minor": 0
      },
      "text/plain": [
       "VBox()"
      ]
     },
     "metadata": {},
     "output_type": "display_data"
    },
    {
     "data": {
      "application/vnd.jupyter.widget-view+json": {
       "model_id": "",
       "version_major": 2,
       "version_minor": 0
      },
      "text/plain": [
       "FloatProgress(value=0.0, bar_style='info', description='Progress:', layout=Layout(height='25px', width='50%'),…"
      ]
     },
     "metadata": {},
     "output_type": "display_data"
    },
    {
     "name": "stdout",
     "output_type": "stream",
     "text": [
      "+----------+---------------------+-------------------+------------------------+----------+----+----+---------+------+-------------------+--------------------+-------------------+--------------------+-----------------------------------+\n",
      "|ID de caso|Fecha de notificación|Ciudad de ubicación|Departamento o Distrito |  atención|Edad|Sexo|     Tipo|Estado|País de procedencia|                 FIS|  Fecha diagnostico|    Fecha recuperado|dias_transcurridos_para_recuperarse|\n",
      "+----------+---------------------+-------------------+------------------------+----------+----+----+---------+------+-------------------+--------------------+-------------------+--------------------+-----------------------------------+\n",
      "|        12|  2020-03-10 00:00:00|              Neiva|                   Huila|Recuperado|  74|   F|Importado|  Leve|             Italia|2020-03-06T00:00:...|2020-03-12 00:00:00|2020-04-09T00:00:...|                                -28|\n",
      "|        16|  2020-03-11 00:00:00|        Bogotá D.C.|             Bogotá D.C.|Recuperado|  61|   F|Importado|  Leve|             Italia|2020-03-08T00:00:...|2020-03-13 00:00:00|2020-03-23T00:00:...|                                -10|\n",
      "+----------+---------------------+-------------------+------------------------+----------+----+----+---------+------+-------------------+--------------------+-------------------+--------------------+-----------------------------------+"
     ]
    }
   ],
   "source": [
    "# Filtrar aquellos pacientes que su 'País de procedencia' = Italia y que su 'Edad' sea mayor o igual a 60 años.\n",
    "df.filter(df['País de procedencia'] == 'Italia').filter(df['Edad'] >= 59).show(5)"
   ]
  },
  {
   "cell_type": "code",
   "execution_count": 7,
   "metadata": {},
   "outputs": [
    {
     "data": {
      "application/vnd.jupyter.widget-view+json": {
       "model_id": "2ec9228881194930b16d256408a04d73",
       "version_major": 2,
       "version_minor": 0
      },
      "text/plain": [
       "VBox()"
      ]
     },
     "metadata": {},
     "output_type": "display_data"
    },
    {
     "data": {
      "application/vnd.jupyter.widget-view+json": {
       "model_id": "",
       "version_major": 2,
       "version_minor": 0
      },
      "text/plain": [
       "FloatProgress(value=0.0, bar_style='info', description='Progress:', layout=Layout(height='25px', width='50%'),…"
      ]
     },
     "metadata": {},
     "output_type": "display_data"
    },
    {
     "name": "stdout",
     "output_type": "stream",
     "text": [
      "+-------------------+-----+\n",
      "|  Fecha diagnostico|count|\n",
      "+-------------------+-----+\n",
      "|2020-04-28 00:00:00|  356|\n",
      "|2020-04-08 00:00:00|  346|\n",
      "|2020-04-24 00:00:00|  321|\n",
      "|2020-04-25 00:00:00|  262|\n",
      "|2020-04-29 00:00:00|  259|\n",
      "+-------------------+-----+\n",
      "only showing top 5 rows"
     ]
    }
   ],
   "source": [
    "# Agrupar por fecha de diagnóstico y contar cuantas personas fueron diagnósticadas en esa fecha\n",
    "df.groupBy('Fecha diagnostico').count().orderBy('count', ascending = False).show(5)"
   ]
  },
  {
   "cell_type": "code",
   "execution_count": 8,
   "metadata": {},
   "outputs": [
    {
     "data": {
      "application/vnd.jupyter.widget-view+json": {
       "model_id": "b2822dedccf64e8494064cf4404ab6c6",
       "version_major": 2,
       "version_minor": 0
      },
      "text/plain": [
       "VBox()"
      ]
     },
     "metadata": {},
     "output_type": "display_data"
    },
    {
     "data": {
      "application/vnd.jupyter.widget-view+json": {
       "model_id": "",
       "version_major": 2,
       "version_minor": 0
      },
      "text/plain": [
       "FloatProgress(value=0.0, bar_style='info', description='Progress:', layout=Layout(height='25px', width='50%'),…"
      ]
     },
     "metadata": {},
     "output_type": "display_data"
    }
   ],
   "source": [
    "# Directorio\n",
    "write_uri='s3://jscardonag/datasets/spark/df_covid19'"
   ]
  },
  {
   "cell_type": "code",
   "execution_count": 9,
   "metadata": {},
   "outputs": [
    {
     "data": {
      "application/vnd.jupyter.widget-view+json": {
       "model_id": "c69ebaabaff6480daff1e0db3283a4a2",
       "version_major": 2,
       "version_minor": 0
      },
      "text/plain": [
       "VBox()"
      ]
     },
     "metadata": {},
     "output_type": "display_data"
    },
    {
     "data": {
      "application/vnd.jupyter.widget-view+json": {
       "model_id": "",
       "version_major": 2,
       "version_minor": 0
      },
      "text/plain": [
       "FloatProgress(value=0.0, bar_style='info', description='Progress:', layout=Layout(height='25px', width='50%'),…"
      ]
     },
     "metadata": {},
     "output_type": "display_data"
    }
   ],
   "source": [
    "# Guardar el dataframe como un solo csv\n",
    "df.coalesce(1).write.format(\"csv\").option(\"header\",\"true\").save(write_uri)"
   ]
  },
  {
   "cell_type": "code",
   "execution_count": 10,
   "metadata": {},
   "outputs": [
    {
     "data": {
      "application/vnd.jupyter.widget-view+json": {
       "model_id": "b535cfc7773148ec8c43bdd094fbcd2a",
       "version_major": 2,
       "version_minor": 0
      },
      "text/plain": [
       "VBox()"
      ]
     },
     "metadata": {},
     "output_type": "display_data"
    },
    {
     "data": {
      "application/vnd.jupyter.widget-view+json": {
       "model_id": "",
       "version_major": 2,
       "version_minor": 0
      },
      "text/plain": [
       "FloatProgress(value=0.0, bar_style='info', description='Progress:', layout=Layout(height='25px', width='50%'),…"
      ]
     },
     "metadata": {},
     "output_type": "display_data"
    }
   ],
   "source": [
    "# Parquet"
   ]
  },
  {
   "cell_type": "code",
   "execution_count": 11,
   "metadata": {},
   "outputs": [
    {
     "data": {
      "application/vnd.jupyter.widget-view+json": {
       "model_id": "686159f97d9b4d378483d56eef25cc2b",
       "version_major": 2,
       "version_minor": 0
      },
      "text/plain": [
       "VBox()"
      ]
     },
     "metadata": {},
     "output_type": "display_data"
    },
    {
     "data": {
      "application/vnd.jupyter.widget-view+json": {
       "model_id": "",
       "version_major": 2,
       "version_minor": 0
      },
      "text/plain": [
       "FloatProgress(value=0.0, bar_style='info', description='Progress:', layout=Layout(height='25px', width='50%'),…"
      ]
     },
     "metadata": {},
     "output_type": "display_data"
    }
   ],
   "source": [
    "# Directorio\n",
    "parquet_uri='s3://jscardonag/datasets/spark/df_covid19_parquet'"
   ]
  },
  {
   "cell_type": "code",
   "execution_count": 12,
   "metadata": {},
   "outputs": [
    {
     "data": {
      "application/vnd.jupyter.widget-view+json": {
       "model_id": "ee75d3ed27674984bf98092ce09975c7",
       "version_major": 2,
       "version_minor": 0
      },
      "text/plain": [
       "VBox()"
      ]
     },
     "metadata": {},
     "output_type": "display_data"
    },
    {
     "data": {
      "application/vnd.jupyter.widget-view+json": {
       "model_id": "",
       "version_major": 2,
       "version_minor": 0
      },
      "text/plain": [
       "FloatProgress(value=0.0, bar_style='info', description='Progress:', layout=Layout(height='25px', width='50%'),…"
      ]
     },
     "metadata": {},
     "output_type": "display_data"
    },
    {
     "name": "stderr",
     "output_type": "stream",
     "text": [
      "'Attribute name \"ID de caso\" contains invalid character(s) among \" ,;{}()\\\\n\\\\t=\". Please use alias to rename it.;'\n",
      "Traceback (most recent call last):\n",
      "  File \"/usr/lib/spark/python/lib/pyspark.zip/pyspark/sql/readwriter.py\", line 738, in save\n",
      "    self._jwrite.save(path)\n",
      "  File \"/usr/lib/spark/python/lib/py4j-0.10.7-src.zip/py4j/java_gateway.py\", line 1257, in __call__\n",
      "    answer, self.gateway_client, self.target_id, self.name)\n",
      "  File \"/usr/lib/spark/python/lib/pyspark.zip/pyspark/sql/utils.py\", line 69, in deco\n",
      "    raise AnalysisException(s.split(': ', 1)[1], stackTrace)\n",
      "pyspark.sql.utils.AnalysisException: 'Attribute name \"ID de caso\" contains invalid character(s) among \" ,;{}()\\\\n\\\\t=\". Please use alias to rename it.;'\n",
      "\n"
     ]
    }
   ],
   "source": [
    "# Guardar los datos en el formato parquet\n",
    "df.write.format('parquet').save(parquet_uri)"
   ]
  }
 ],
 "metadata": {
  "kernelspec": {
   "display_name": "PySpark",
   "language": "",
   "name": "pysparkkernel"
  },
  "language_info": {
   "codemirror_mode": {
    "name": "python",
    "version": 2
   },
   "mimetype": "text/x-python",
   "name": "pyspark",
   "pygments_lexer": "python2"
  }
 },
 "nbformat": 4,
 "nbformat_minor": 4
}
